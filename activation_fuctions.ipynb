{
  "nbformat": 4,
  "nbformat_minor": 0,
  "metadata": {
    "colab": {
      "name": "activation_fuctions.ipynb",
      "provenance": [],
      "authorship_tag": "ABX9TyMdvXk0flzcv0S+A2lMISb1",
      "include_colab_link": true
    },
    "kernelspec": {
      "name": "python3",
      "display_name": "Python 3"
    }
  },
  "cells": [
    {
      "cell_type": "markdown",
      "metadata": {
        "id": "view-in-github",
        "colab_type": "text"
      },
      "source": [
        "<a href=\"https://colab.research.google.com/github/nefetorve/cnn/blob/main/activation_fuctions.ipynb\" target=\"_parent\"><img src=\"https://colab.research.google.com/assets/colab-badge.svg\" alt=\"Open In Colab\"/></a>"
      ]
    },
    {
      "cell_type": "markdown",
      "metadata": {
        "id": "voo8pUhULJFI"
      },
      "source": [
        "**ReLU Function**\r\n",
        "\r\n",
        "$f(x) = max(x,0)$"
      ]
    },
    {
      "cell_type": "code",
      "metadata": {
        "id": "196rHjeMLQaq"
      },
      "source": [
        "import numpy as np\r\n",
        "import matplotlib.pyplot as plt\r\n",
        "import seaborn as sns\r\n",
        "sns.set()"
      ],
      "execution_count": 1,
      "outputs": []
    },
    {
      "cell_type": "code",
      "metadata": {
        "id": "FJUJKRkALhwh"
      },
      "source": [
        "def max_relu(x):\r\n",
        "  return max(x,0)"
      ],
      "execution_count": 3,
      "outputs": []
    },
    {
      "cell_type": "code",
      "metadata": {
        "colab": {
          "base_uri": "https://localhost:8080/"
        },
        "id": "zszYasTbLtYL",
        "outputId": "af7507c2-e352-44c0-e0f4-02349db740b0"
      },
      "source": [
        "for i in [-10,-5,0,5,10]:\r\n",
        "  print(max_relu(i))"
      ],
      "execution_count": 5,
      "outputs": [
        {
          "output_type": "stream",
          "text": [
            "0\n",
            "0\n",
            "0\n",
            "5\n",
            "10\n"
          ],
          "name": "stdout"
        }
      ]
    },
    {
      "cell_type": "code",
      "metadata": {
        "colab": {
          "base_uri": "https://localhost:8080/"
        },
        "id": "PPTBqyS8L-_b",
        "outputId": "e9f57531-e7c3-4f93-aefa-be7ca6572bf1"
      },
      "source": [
        "data = np.arange(-5,5,0.1)\r\n",
        "data"
      ],
      "execution_count": 8,
      "outputs": [
        {
          "output_type": "execute_result",
          "data": {
            "text/plain": [
              "array([-5.00000000e+00, -4.90000000e+00, -4.80000000e+00, -4.70000000e+00,\n",
              "       -4.60000000e+00, -4.50000000e+00, -4.40000000e+00, -4.30000000e+00,\n",
              "       -4.20000000e+00, -4.10000000e+00, -4.00000000e+00, -3.90000000e+00,\n",
              "       -3.80000000e+00, -3.70000000e+00, -3.60000000e+00, -3.50000000e+00,\n",
              "       -3.40000000e+00, -3.30000000e+00, -3.20000000e+00, -3.10000000e+00,\n",
              "       -3.00000000e+00, -2.90000000e+00, -2.80000000e+00, -2.70000000e+00,\n",
              "       -2.60000000e+00, -2.50000000e+00, -2.40000000e+00, -2.30000000e+00,\n",
              "       -2.20000000e+00, -2.10000000e+00, -2.00000000e+00, -1.90000000e+00,\n",
              "       -1.80000000e+00, -1.70000000e+00, -1.60000000e+00, -1.50000000e+00,\n",
              "       -1.40000000e+00, -1.30000000e+00, -1.20000000e+00, -1.10000000e+00,\n",
              "       -1.00000000e+00, -9.00000000e-01, -8.00000000e-01, -7.00000000e-01,\n",
              "       -6.00000000e-01, -5.00000000e-01, -4.00000000e-01, -3.00000000e-01,\n",
              "       -2.00000000e-01, -1.00000000e-01, -1.77635684e-14,  1.00000000e-01,\n",
              "        2.00000000e-01,  3.00000000e-01,  4.00000000e-01,  5.00000000e-01,\n",
              "        6.00000000e-01,  7.00000000e-01,  8.00000000e-01,  9.00000000e-01,\n",
              "        1.00000000e+00,  1.10000000e+00,  1.20000000e+00,  1.30000000e+00,\n",
              "        1.40000000e+00,  1.50000000e+00,  1.60000000e+00,  1.70000000e+00,\n",
              "        1.80000000e+00,  1.90000000e+00,  2.00000000e+00,  2.10000000e+00,\n",
              "        2.20000000e+00,  2.30000000e+00,  2.40000000e+00,  2.50000000e+00,\n",
              "        2.60000000e+00,  2.70000000e+00,  2.80000000e+00,  2.90000000e+00,\n",
              "        3.00000000e+00,  3.10000000e+00,  3.20000000e+00,  3.30000000e+00,\n",
              "        3.40000000e+00,  3.50000000e+00,  3.60000000e+00,  3.70000000e+00,\n",
              "        3.80000000e+00,  3.90000000e+00,  4.00000000e+00,  4.10000000e+00,\n",
              "        4.20000000e+00,  4.30000000e+00,  4.40000000e+00,  4.50000000e+00,\n",
              "        4.60000000e+00,  4.70000000e+00,  4.80000000e+00,  4.90000000e+00])"
            ]
          },
          "metadata": {
            "tags": []
          },
          "execution_count": 8
        }
      ]
    },
    {
      "cell_type": "code",
      "metadata": {
        "colab": {
          "base_uri": "https://localhost:8080/",
          "height": 301
        },
        "id": "VV7jVnJ1MEet",
        "outputId": "5d100eb7-0c6b-4ac0-809e-0fbf48ffd981"
      },
      "source": [
        "max_relu_data = [max_relu(x) for x in data]\r\n",
        "plt.plot(data,max_relu_data)\r\n",
        "plt.title(\"ReLU\")"
      ],
      "execution_count": 15,
      "outputs": [
        {
          "output_type": "execute_result",
          "data": {
            "text/plain": [
              "Text(0.5, 1.0, 'ReLU')"
            ]
          },
          "metadata": {
            "tags": []
          },
          "execution_count": 15
        },
        {
          "output_type": "display_data",
          "data": {
            "image/png": "[encoded data removed]",
            "text/plain": [
              "<Figure size 432x288 with 1 Axes>"
            ]
          },
          "metadata": {
            "tags": [],
            "needs_background": "light"
          }
        }
      ]
    },
    {
      "cell_type": "code",
      "metadata": {
        "id": "JhttIXC1MzOE"
      },
      "source": [
        ""
      ],
      "execution_count": null,
      "outputs": []
    },
    {
      "cell_type": "markdown",
      "metadata": {
        "id": "FrT-BKwYM2GN"
      },
      "source": [
        "**Sigmoid Function**\r\n",
        "\r\n",
        "$f(x) = \\frac{1}{1+e^{-x}}$"
      ]
    },
    {
      "cell_type": "code",
      "metadata": {
        "id": "jnvxUqQKNmtq"
      },
      "source": [
        "def sigmoid(x):\r\n",
        "  return 1./(1.+np.exp(-x))"
      ],
      "execution_count": 16,
      "outputs": []
    },
    {
      "cell_type": "code",
      "metadata": {
        "colab": {
          "base_uri": "https://localhost:8080/"
        },
        "id": "DkJTl7NDM-a-",
        "outputId": "b8ca01cd-c06e-449d-b9c5-a0892b5ed85d"
      },
      "source": [
        "for i in [-5,-3,-1,0,3,5]:\r\n",
        "  print(sigmoid(i))"
      ],
      "execution_count": 19,
      "outputs": [
        {
          "output_type": "stream",
          "text": [
            "0.0066928509242848554\n",
            "0.04742587317756678\n",
            "0.2689414213699951\n",
            "0.5\n",
            "0.9525741268224334\n",
            "0.9933071490757153\n"
          ],
          "name": "stdout"
        }
      ]
    },
    {
      "cell_type": "code",
      "metadata": {
        "id": "1e8Xl8R7OGI-"
      },
      "source": [
        "data = np.arange(-10,10,0.1)"
      ],
      "execution_count": 30,
      "outputs": []
    },
    {
      "cell_type": "code",
      "metadata": {
        "colab": {
          "base_uri": "https://localhost:8080/",
          "height": 301
        },
        "id": "4xks2u69OJKz",
        "outputId": "192f1ea9-0f26-449e-9916-4787a9f0accb"
      },
      "source": [
        "data_sigmoid = [sigmoid(x) for x in data]\r\n",
        "\r\n",
        "plt.plot(data,data_sigmoid)\r\n",
        "plt.title(\"sigmoid function\")"
      ],
      "execution_count": 32,
      "outputs": [
        {
          "output_type": "execute_result",
          "data": {
            "text/plain": [
              "Text(0.5, 1.0, 'sigmoid function')"
            ]
          },
          "metadata": {
            "tags": []
          },
          "execution_count": 32
        },
        {
          "output_type": "display_data",
          "data": {
            "image/png": "[encoded data removed]",
            "text/plain": [
              "<Figure size 432x288 with 1 Axes>"
            ]
          },
          "metadata": {
            "tags": [],
            "needs_background": "light"
          }
        }
      ]
    },
    {
      "cell_type": "markdown",
      "metadata": {
        "id": "tWwfQNvBO3nl"
      },
      "source": [
        "Funkcja softmax"
      ]
    },
    {
      "cell_type": "code",
      "metadata": {
        "colab": {
          "base_uri": "https://localhost:8080/",
          "height": 141
        },
        "id": "ch_rIXSFO41N",
        "outputId": "dd02ba9a-a4c4-4f15-9303-f33c3572b47f"
      },
      "source": [
        "data = np.random.randn(3,5)\r\n",
        "data\r\n",
        "import pandas as pd\r\n",
        "df = pd.DataFrame(data)\r\n",
        "df"
      ],
      "execution_count": 37,
      "outputs": [
        {
          "output_type": "execute_result",
          "data": {
            "text/html": [
              "<div>\n",
              "<style scoped>\n",
              "    .dataframe tbody tr th:only-of-type {\n",
              "        vertical-align: middle;\n",
              "    }\n",
              "\n",
              "    .dataframe tbody tr th {\n",
              "        vertical-align: top;\n",
              "    }\n",
              "\n",
              "    .dataframe thead th {\n",
              "        text-align: right;\n",
              "    }\n",
              "</style>\n",
              "<table border=\"1\" class=\"dataframe\">\n",
              "  <thead>\n",
              "    <tr style=\"text-align: right;\">\n",
              "      <th></th>\n",
              "      <th>0</th>\n",
              "      <th>1</th>\n",
              "      <th>2</th>\n",
              "      <th>3</th>\n",
              "      <th>4</th>\n",
              "    </tr>\n",
              "  </thead>\n",
              "  <tbody>\n",
              "    <tr>\n",
              "      <th>0</th>\n",
              "      <td>0.213128</td>\n",
              "      <td>-1.174565</td>\n",
              "      <td>-1.135870</td>\n",
              "      <td>-0.604258</td>\n",
              "      <td>-0.117418</td>\n",
              "    </tr>\n",
              "    <tr>\n",
              "      <th>1</th>\n",
              "      <td>-0.530933</td>\n",
              "      <td>-0.392669</td>\n",
              "      <td>1.244349</td>\n",
              "      <td>-0.752424</td>\n",
              "      <td>0.352579</td>\n",
              "    </tr>\n",
              "    <tr>\n",
              "      <th>2</th>\n",
              "      <td>-1.216938</td>\n",
              "      <td>0.804536</td>\n",
              "      <td>0.070453</td>\n",
              "      <td>0.226285</td>\n",
              "      <td>1.387449</td>\n",
              "    </tr>\n",
              "  </tbody>\n",
              "</table>\n",
              "</div>"
            ],
            "text/plain": [
              "          0         1         2         3         4\n",
              "0  0.213128 -1.174565 -1.135870 -0.604258 -0.117418\n",
              "1 -0.530933 -0.392669  1.244349 -0.752424  0.352579\n",
              "2 -1.216938  0.804536  0.070453  0.226285  1.387449"
            ]
          },
          "metadata": {
            "tags": []
          },
          "execution_count": 37
        }
      ]
    },
    {
      "cell_type": "code",
      "metadata": {
        "id": "GQL1Ubc5PauW"
      },
      "source": [
        "res = np.exp(df)/np.sum(np.exp(df),axis=0)"
      ],
      "execution_count": 43,
      "outputs": []
    },
    {
      "cell_type": "code",
      "metadata": {
        "colab": {
          "base_uri": "https://localhost:8080/"
        },
        "id": "_m8qgkVhQfNh",
        "outputId": "f8c01987-67f1-4dd8-c05c-020bacb689e1"
      },
      "source": [
        "np.sum(res,axis=0)"
      ],
      "execution_count": 44,
      "outputs": [
        {
          "output_type": "execute_result",
          "data": {
            "text/plain": [
              "0    1.0\n",
              "1    1.0\n",
              "2    1.0\n",
              "3    1.0\n",
              "4    1.0\n",
              "dtype: float64"
            ]
          },
          "metadata": {
            "tags": []
          },
          "execution_count": 44
        }
      ]
    },
    {
      "cell_type": "markdown",
      "metadata": {
        "id": "SABc68InRLJa"
      },
      "source": [
        "Tan h"
      ]
    },
    {
      "cell_type": "code",
      "metadata": {
        "id": "c7splJGrRMgC"
      },
      "source": [
        "def tanh(x):\r\n",
        "  return (np.exp(x)-np.exp(-x))/(np.exp(x)+np.exp(-x))"
      ],
      "execution_count": 47,
      "outputs": []
    },
    {
      "cell_type": "code",
      "metadata": {
        "colab": {
          "base_uri": "https://localhost:8080/"
        },
        "id": "_fgXuLxCRZ_m",
        "outputId": "fe445b94-4d3e-4c02-84d6-72a5357c8d88"
      },
      "source": [
        "for i in [-2,-1,0,1,2]:\r\n",
        "  print(tanh(i))"
      ],
      "execution_count": 48,
      "outputs": [
        {
          "output_type": "stream",
          "text": [
            "-0.964027580075817\n",
            "-0.7615941559557649\n",
            "0.0\n",
            "0.7615941559557649\n",
            "0.964027580075817\n"
          ],
          "name": "stdout"
        }
      ]
    },
    {
      "cell_type": "code",
      "metadata": {
        "colab": {
          "base_uri": "https://localhost:8080/",
          "height": 285
        },
        "id": "HMvOKRgeRYvl",
        "outputId": "228ea473-8f9a-4c62-dc01-acc1184cd240"
      },
      "source": [
        "data = np.arange(-5,5,0.1)\r\n",
        "tanh_data = [tanh(x) for x in data]\r\n",
        "\r\n",
        "plt.plot(data,tanh_data)"
      ],
      "execution_count": 51,
      "outputs": [
        {
          "output_type": "execute_result",
          "data": {
            "text/plain": [
              "[<matplotlib.lines.Line2D at 0x7f4b20a527f0>]"
            ]
          },
          "metadata": {
            "tags": []
          },
          "execution_count": 51
        },
        {
          "output_type": "display_data",
          "data": {
            "image/png": "[encoded data removed]",
            "text/plain": [
              "<Figure size 432x288 with 1 Axes>"
            ]
          },
          "metadata": {
            "tags": [],
            "needs_background": "light"
          }
        }
      ]
    }
  ]
}