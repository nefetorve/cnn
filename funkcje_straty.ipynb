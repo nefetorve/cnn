{
  "nbformat": 4,
  "nbformat_minor": 0,
  "metadata": {
    "colab": {
      "name": "funkcje_straty.ipynb",
      "provenance": [],
      "authorship_tag": "ABX9TyNw4z5j1Xju1CAVGvPxdke4",
      "include_colab_link": true
    },
    "kernelspec": {
      "name": "python3",
      "display_name": "Python 3"
    }
  },
  "cells": [
    {
      "cell_type": "markdown",
      "metadata": {
        "id": "view-in-github",
        "colab_type": "text"
      },
      "source": [
        "<a href=\"https://colab.research.google.com/github/nefetorve/cnn/blob/main/funkcje_straty.ipynb\" target=\"_parent\"><img src=\"https://colab.research.google.com/assets/colab-badge.svg\" alt=\"Open In Colab\"/></a>"
      ]
    },
    {
      "cell_type": "markdown",
      "metadata": {
        "id": "FQOB6K2mTTaG"
      },
      "source": [
        "Accuracy - dokładność klasyfikacji\r\n",
        "\r\n",
        "$Acc =\\frac{poprawne\\ predykcje}{wszystkie\\ predykcje}*100$\r\n",
        "\r\n"
      ]
    },
    {
      "cell_type": "code",
      "metadata": {
        "id": "v0AxRnJwUS50"
      },
      "source": [
        "import numpy as np "
      ],
      "execution_count": 1,
      "outputs": []
    },
    {
      "cell_type": "code",
      "metadata": {
        "id": "lDk7o47tVYJp"
      },
      "source": [
        "y_true = np.array([1,0,1,1,0,1])\r\n",
        "y_pred = np.array([0,0,1,1,0,1])"
      ],
      "execution_count": 3,
      "outputs": []
    },
    {
      "cell_type": "code",
      "metadata": {
        "id": "E0OBnDFuVySX"
      },
      "source": [
        "def accuracy(y_true,y_pred):\r\n",
        "  correct = 0 \r\n",
        "  for i in range(len(y_true)):\r\n",
        "    if y_true[i] == y_pred[i]:\r\n",
        "      correct += 1\r\n",
        "\r\n",
        "  return correct/len(y_true) * 100"
      ],
      "execution_count": 4,
      "outputs": []
    },
    {
      "cell_type": "code",
      "metadata": {
        "colab": {
          "base_uri": "https://localhost:8080/"
        },
        "id": "5qftOMQmUF20",
        "outputId": "d23a318c-d26e-4381-9580-019dced6ce78"
      },
      "source": [
        "accuracy(y_true,y_pred)"
      ],
      "execution_count": 5,
      "outputs": [
        {
          "output_type": "execute_result",
          "data": {
            "text/plain": [
              "83.33333333333334"
            ]
          },
          "metadata": {
            "tags": []
          },
          "execution_count": 5
        }
      ]
    },
    {
      "cell_type": "markdown",
      "metadata": {
        "id": "rE4tTnDYXAlj"
      },
      "source": [
        "Entropia\r\n",
        "\r\n",
        "  $Entropy = -\\sum_{i}p_i*log(p_i)$\r\n",
        "\r\n",
        "`Gdzie pi to prawdopodobieństwo zajścia i-tego zdarzenia. Entropia charakteryzuje możliwość oddawania informacji przez źródło. Inaczej jest to miara nieokreśloności/niepewności. Średnie zdziwienie (wartość oczekiwana zdziwienia)`"
      ]
    },
    {
      "cell_type": "code",
      "metadata": {
        "colab": {
          "base_uri": "https://localhost:8080/"
        },
        "id": "G6NeVOKhXyVq",
        "outputId": "3ef66472-3a5b-406a-8ad0-2a606a574802"
      },
      "source": [
        "def entropy(labels,base=None):\r\n",
        "  from math import log,e\r\n",
        "  n_labels = len(labels)\r\n",
        "\r\n",
        "  if n_labels <= 1:\r\n",
        "    return 0\r\n",
        "\r\n",
        "  value, counts = np.unique(labels,return_counts=True)\r\n",
        "  probs = counts/n_labels\r\n",
        "  n_classes = np.count_nonzero(probs)\r\n",
        "\r\n",
        "  if n_classes <= 1:\r\n",
        "    return 0\r\n",
        "\r\n",
        "  ent = 0\r\n",
        "  \r\n",
        "  base = e if base is None else base\r\n",
        "  for i in probs:\r\n",
        "    ent -= i * log(i,base)\r\n",
        "  \r\n",
        "  return ent\r\n",
        "\r\n",
        "\r\n",
        "labels = [1,3,5,2,3,5,3,2,1,3,4,5]\r\n",
        "\r\n",
        "entropy(labels)"
      ],
      "execution_count": 13,
      "outputs": [
        {
          "output_type": "execute_result",
          "data": {
            "text/plain": [
              "1.5171063970610277"
            ]
          },
          "metadata": {
            "tags": []
          },
          "execution_count": 13
        }
      ]
    },
    {
      "cell_type": "code",
      "metadata": {
        "id": "yPIilgCmTSzP"
      },
      "source": [
        ""
      ],
      "execution_count": null,
      "outputs": []
    },
    {
      "cell_type": "code",
      "metadata": {
        "id": "aK6w8FcLTAYC"
      },
      "source": [
        ""
      ],
      "execution_count": null,
      "outputs": []
    }
  ]
}